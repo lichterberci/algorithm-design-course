{
 "cells": [
  {
   "cell_type": "code",
   "execution_count": 1,
   "metadata": {},
   "outputs": [],
   "source": [
    "from typing import *"
   ]
  },
  {
   "cell_type": "code",
   "execution_count": 47,
   "metadata": {},
   "outputs": [],
   "source": [
    "def print_graph (g) :\n",
    "    for v in g :\n",
    "        edges = g[v] \n",
    "        print(f\"v: {v} edges: {', '.join([(f'({to} w: {w})') for to, w in edges])}\")"
   ]
  },
  {
   "cell_type": "code",
   "execution_count": 48,
   "metadata": {},
   "outputs": [],
   "source": [
    "def make_graph_from_tuples (tuples) :\n",
    "    g = {}\n",
    "    for v_from, v_to, weight in tuples :\n",
    "        if v_from in g :\n",
    "            g[v_from].append((v_to, weight))\n",
    "        else :\n",
    "            g[v_from] = [(v_to, weight)]\n",
    "    return g"
   ]
  },
  {
   "cell_type": "code",
   "execution_count": 103,
   "metadata": {},
   "outputs": [],
   "source": [
    "g = make_graph_from_tuples([\n",
    "    (0, 1, 1),\n",
    "    (1, 2, 3),\n",
    "    (3, 2, 0.5),\n",
    "    (1, 3, 1),\n",
    "    (1, 2, 10),\n",
    "])"
   ]
  },
  {
   "cell_type": "code",
   "execution_count": 104,
   "metadata": {},
   "outputs": [
    {
     "name": "stdout",
     "output_type": "stream",
     "text": [
      "v: 0 edges: (1 w: 1)\n",
      "v: 1 edges: (2 w: 3), (3 w: 1), (2 w: 10)\n",
      "v: 3 edges: (2 w: 0.5)\n"
     ]
    }
   ],
   "source": [
    "print_graph(g)"
   ]
  },
  {
   "cell_type": "code",
   "execution_count": 105,
   "metadata": {},
   "outputs": [],
   "source": [
    "def get_vertices (g) :\n",
    "    result = []\n",
    "    result.extend(g.keys())\n",
    "    for v in g :\n",
    "        result.extend([v_to for v_to, w in g[v]])\n",
    "    return set(result)"
   ]
  },
  {
   "cell_type": "code",
   "execution_count": 106,
   "metadata": {},
   "outputs": [],
   "source": [
    "def invert_edges (g) :\n",
    "    inverted_g = {}\n",
    "    for v_to in g :\n",
    "        for v_from, w in g[v_to] :\n",
    "            if v_from in inverted_g :\n",
    "                inverted_g[v_from].append((v_to, w))\n",
    "            else :\n",
    "                inverted_g[v_from] = [(v_to, w)]\n",
    "    return inverted_g"
   ]
  },
  {
   "cell_type": "code",
   "execution_count": 107,
   "metadata": {},
   "outputs": [
    {
     "name": "stdout",
     "output_type": "stream",
     "text": [
      "v: 1 edges: (0 w: 1)\n",
      "v: 2 edges: (1 w: 3), (1 w: 10), (3 w: 0.5)\n",
      "v: 3 edges: (1 w: 1)\n"
     ]
    }
   ],
   "source": [
    "print_graph(invert_edges(g))"
   ]
  },
  {
   "cell_type": "code",
   "execution_count": 150,
   "metadata": {},
   "outputs": [],
   "source": [
    "import math\n",
    "\n",
    "def BellmanFord(g, s):\n",
    "    t = [[math.inf if v != s else 0.0 for v in list(get_vertices(g))]]\n",
    "    m = [[None] * len(get_vertices(g))]\n",
    "\n",
    "    g_with_inverted_edges = invert_edges (g)\n",
    "\n",
    "    for k in range(1, len(get_vertices(g)) + 1):\n",
    "        \n",
    "        t.append(list(t[-1]))\n",
    "        m.append(list(m[-1]))\n",
    "\n",
    "        for i, v in enumerate(get_vertices(g)) :\n",
    "            if v == s :\n",
    "                t[k][i] = 0\n",
    "                continue\n",
    "\n",
    "            if v not in g_with_inverted_edges : # no edges from this one\n",
    "                print(f\"skip {v}\")\n",
    "                continue\n",
    "\n",
    "            for v_from, w in g_with_inverted_edges[v] :\n",
    "                print(f\"k = {k}: v = {v} (t={t[k][i]}) v_from = {v_from} (t={t[k - 1][list(get_vertices(g)).index(v_from)]}) w = {w}\")\n",
    "                if t[k - 1][list(get_vertices(g)).index(v_from)] + w < t[k][i] :\n",
    "                    print(f\"update {v} (new: {v_from} --> {v})\")\n",
    "                    t[k][i] = t[k][list(get_vertices(g)).index(v_from)] + w\n",
    "                    m[k][i] = v_from\n",
    "\n",
    "    # check for conservativity\n",
    "\n",
    "    for i in range(len(get_vertices(g))) :\n",
    "        if t[-1][i] != t[-2][i] :\n",
    "            raise ValueError(f\"Conservativity not preserved! (weight of {list(g.keys())[i]} changed)\")\n",
    "\n",
    "    return t, m"
   ]
  },
  {
   "cell_type": "code",
   "execution_count": 151,
   "metadata": {},
   "outputs": [
    {
     "name": "stdout",
     "output_type": "stream",
     "text": [
      "v: 0 edges: (1 w: 1)\n",
      "v: 1 edges: (2 w: 3), (3 w: 1), (2 w: 10)\n",
      "v: 3 edges: (2 w: 0.5)\n",
      "----\n",
      "v: 1 edges: (0 w: 1)\n",
      "v: 2 edges: (1 w: 3), (1 w: 10), (3 w: 0.5)\n",
      "v: 3 edges: (1 w: 1)\n"
     ]
    }
   ],
   "source": [
    "print_graph(g)\n",
    "print(\"----\")\n",
    "print_graph(invert_edges(g))"
   ]
  },
  {
   "cell_type": "code",
   "execution_count": 152,
   "metadata": {},
   "outputs": [
    {
     "name": "stdout",
     "output_type": "stream",
     "text": [
      "k = 1: v = 1 (t=inf) v_from = 0 (t=0.0) w = 1\n",
      "update 1 (new: 0 --> 1)\n",
      "k = 1: v = 2 (t=inf) v_from = 1 (t=inf) w = 3\n",
      "k = 1: v = 2 (t=inf) v_from = 1 (t=inf) w = 10\n",
      "k = 1: v = 2 (t=inf) v_from = 3 (t=inf) w = 0.5\n",
      "k = 1: v = 3 (t=inf) v_from = 1 (t=inf) w = 1\n",
      "k = 2: v = 1 (t=1) v_from = 0 (t=0) w = 1\n",
      "k = 2: v = 2 (t=inf) v_from = 1 (t=1) w = 3\n",
      "update 2 (new: 1 --> 2)\n",
      "k = 2: v = 2 (t=4) v_from = 1 (t=1) w = 10\n",
      "k = 2: v = 2 (t=4) v_from = 3 (t=inf) w = 0.5\n",
      "k = 2: v = 3 (t=inf) v_from = 1 (t=1) w = 1\n",
      "update 3 (new: 1 --> 3)\n",
      "k = 3: v = 1 (t=1) v_from = 0 (t=0) w = 1\n",
      "k = 3: v = 2 (t=4) v_from = 1 (t=1) w = 3\n",
      "k = 3: v = 2 (t=4) v_from = 1 (t=1) w = 10\n",
      "k = 3: v = 2 (t=4) v_from = 3 (t=2) w = 0.5\n",
      "update 2 (new: 3 --> 2)\n",
      "k = 3: v = 3 (t=2) v_from = 1 (t=1) w = 1\n",
      "k = 4: v = 1 (t=1) v_from = 0 (t=0) w = 1\n",
      "k = 4: v = 2 (t=2.5) v_from = 1 (t=1) w = 3\n",
      "k = 4: v = 2 (t=2.5) v_from = 1 (t=1) w = 10\n",
      "k = 4: v = 2 (t=2.5) v_from = 3 (t=2) w = 0.5\n",
      "k = 4: v = 3 (t=2) v_from = 1 (t=1) w = 1\n"
     ]
    },
    {
     "data": {
      "text/plain": [
       "([[0.0, inf, inf, inf],\n",
       "  [0, 1, inf, inf],\n",
       "  [0, 1, 4, 2],\n",
       "  [0, 1, 2.5, 2],\n",
       "  [0, 1, 2.5, 2]],\n",
       " [[None, None, None, None],\n",
       "  [None, 0, None, None],\n",
       "  [None, 0, 1, 1],\n",
       "  [None, 0, 3, 1],\n",
       "  [None, 0, 3, 1]])"
      ]
     },
     "execution_count": 152,
     "metadata": {},
     "output_type": "execute_result"
    }
   ],
   "source": [
    "BellmanFord(g, 0)"
   ]
  },
  {
   "cell_type": "code",
   "execution_count": null,
   "metadata": {},
   "outputs": [],
   "source": []
  },
  {
   "cell_type": "code",
   "execution_count": null,
   "metadata": {},
   "outputs": [],
   "source": []
  }
 ],
 "metadata": {
  "kernelspec": {
   "display_name": "algorithm-design-course",
   "language": "python",
   "name": "python3"
  },
  "language_info": {
   "codemirror_mode": {
    "name": "ipython",
    "version": 3
   },
   "file_extension": ".py",
   "mimetype": "text/x-python",
   "name": "python",
   "nbconvert_exporter": "python",
   "pygments_lexer": "ipython3",
   "version": "3.9.16"
  },
  "orig_nbformat": 4
 },
 "nbformat": 4,
 "nbformat_minor": 2
}
