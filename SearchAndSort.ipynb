{
 "cells": [
  {
   "attachments": {},
   "cell_type": "markdown",
   "metadata": {},
   "source": [
    "# Search and sorting algorithms"
   ]
  },
  {
   "cell_type": "code",
   "execution_count": 62,
   "metadata": {},
   "outputs": [],
   "source": [
    "import math \n",
    "import numpy as np\n",
    "from typing import *"
   ]
  },
  {
   "attachments": {},
   "cell_type": "markdown",
   "metadata": {},
   "source": [
    "## Find the largest sum subarray\n",
    "\n",
    "(Solution: Kadane's algorithm)"
   ]
  },
  {
   "cell_type": "code",
   "execution_count": 36,
   "metadata": {},
   "outputs": [],
   "source": [
    "def find_max_sum_dynamic(arr):\n",
    "    \n",
    "    # Kadane's algorithm\n",
    "    \n",
    "    local_max = arr[0]\n",
    "    global_max = arr[0]\n",
    "\n",
    "    for x in arr[1:]:\n",
    "        local_max = max(local_max + x, x)\n",
    "        global_max = max(local_max, global_max)\n",
    "\n",
    "    return global_max"
   ]
  },
  {
   "cell_type": "code",
   "execution_count": 49,
   "metadata": {},
   "outputs": [],
   "source": [
    "random_array = np.random.randint(-10, 10, 10)"
   ]
  },
  {
   "cell_type": "code",
   "execution_count": 50,
   "metadata": {},
   "outputs": [
    {
     "data": {
      "text/plain": [
       "array([ 4, -8, -1,  8, -7,  5,  8, -2, -8,  8])"
      ]
     },
     "execution_count": 50,
     "metadata": {},
     "output_type": "execute_result"
    }
   ],
   "source": [
    "random_array"
   ]
  },
  {
   "cell_type": "code",
   "execution_count": 51,
   "metadata": {},
   "outputs": [
    {
     "data": {
      "text/plain": [
       "14"
      ]
     },
     "execution_count": 51,
     "metadata": {},
     "output_type": "execute_result"
    }
   ],
   "source": [
    "find_max_sum_dynamic(random_array)"
   ]
  },
  {
   "attachments": {},
   "cell_type": "markdown",
   "metadata": {},
   "source": [
    "## Napsack problem"
   ]
  },
  {
   "cell_type": "code",
   "execution_count": 115,
   "metadata": {},
   "outputs": [],
   "source": [
    "def max_value (objects: List[Tuple[int, int]], capacity: int):\n",
    "    \n",
    "    if not objects :\n",
    "        return []\n",
    "    \n",
    "    table = [[0] * capacity]\n",
    "    \n",
    "    # i is the prev row index\n",
    "    for i, (weight, value) in enumerate(objects) :\n",
    "        \n",
    "        row = []\n",
    "        \n",
    "        for c in range(1, capacity + 1) :\n",
    "            \n",
    "            above_value = table[i][c - 1]\n",
    "            \n",
    "            if c < weight :\n",
    "                row.append(above_value)\n",
    "                continue\n",
    "                \n",
    "            if c == weight :\n",
    "                row.append(max(above_value, value))\n",
    "                continue\n",
    "                \n",
    "            combined_value = value + table[i][c - weight - 1]\n",
    "\n",
    "            row.append(max(combined_value, above_value))\n",
    "            \n",
    "        table.append(row)\n",
    "        \n",
    "    print(\"\\n\".join([\" \".join([str(item) for item in row]) for row in table]))\n",
    "        \n",
    "    return table[-1][-1]"
   ]
  },
  {
   "cell_type": "code",
   "execution_count": 119,
   "metadata": {},
   "outputs": [
    {
     "name": "stdout",
     "output_type": "stream",
     "text": [
      "0 0 0 0 0 0 0\n",
      "0 0 2 2 2 2 2\n",
      "0 3 3 3 5 5 5\n",
      "2 3 5 5 5 7 7\n"
     ]
    },
    {
     "data": {
      "text/plain": [
       "7"
      ]
     },
     "execution_count": 119,
     "metadata": {},
     "output_type": "execute_result"
    }
   ],
   "source": [
    "max_value([(3, 2), (2, 3), (1, 2)], 7)"
   ]
  },
  {
   "cell_type": "code",
   "execution_count": null,
   "metadata": {},
   "outputs": [],
   "source": []
  }
 ],
 "metadata": {
  "kernelspec": {
   "display_name": "Python 3",
   "language": "python",
   "name": "python3"
  },
  "language_info": {
   "codemirror_mode": {
    "name": "ipython",
    "version": 3
   },
   "file_extension": ".py",
   "mimetype": "text/x-python",
   "name": "python",
   "nbconvert_exporter": "python",
   "pygments_lexer": "ipython3",
   "version": "3.9.16"
  },
  "orig_nbformat": 4
 },
 "nbformat": 4,
 "nbformat_minor": 2
}
